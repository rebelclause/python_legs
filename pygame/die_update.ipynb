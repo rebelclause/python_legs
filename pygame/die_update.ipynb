{
 "cells": [
  {
   "cell_type": "markdown",
   "metadata": {},
   "source": [
    "# Roll a Die\n",
    "\n",
    "The original code was written in response to a question posed on Stack Overflow [https://stackoverflow.com/q/51833699/7955763](https://stackoverflow.com/q/51833699/7955763)\n",
    "\n",
    "The code receives an update with the following:"
   ]
  },
  {
   "cell_type": "code",
   "execution_count": null,
   "metadata": {},
   "outputs": [],
   "source": [
    "def rolldice():\n",
    "    from random import choice\n",
    "    select = [1, 2, 3, 4, 5, 6]\n",
    "    select = choice(select)\n",
    "    # sets the properties of the circle\n",
    "    pos = {'1': [(128, 128)],\n",
    "           '2': [(51, 51), (204, 204)],\n",
    "           '3': [(64, 64), (128, 128), (213, 213)],\n",
    "           '4': [(51, 51), (51, 204), (204, 51), (204, 204)],\n",
    "           '5': [(85, 85), (85, 213), (128, 128), (213, 213), (213, 85)],\n",
    "           '6': [(64, 64), (64, 128), (64, 192), (192, 64), (192, 128), (192, 192)],\n",
    "           'radius': 9,\n",
    "           'width': 8}\n",
    "    DISPLAYSURF.fill(white)\n",
    "    for x in range(select):\n",
    "        # draws the circle\n",
    "        val = str(select)\n",
    "        pygame.draw.circle(DISPLAYSURF, grey, pos[val][x-1], pos['radius'] + 4, pos['width'])\n",
    "        pygame.draw.circle(DISPLAYSURF, black, pos[val][x-1], pos['radius'], pos['width'])\n",
    "    pygame.display.update()\n",
    "    return select"
   ]
  },
  {
   "cell_type": "markdown",
   "metadata": {},
   "source": [
    "Remember to remove both `DISPLAYSURF.fill()` and `pygame.display.update()` statements from the main event capture loop."
   ]
  }
 ],
 "metadata": {
  "kernelspec": {
   "display_name": "Python 3",
   "language": "python",
   "name": "python3"
  },
  "language_info": {
   "codemirror_mode": {
    "name": "ipython",
    "version": 3
   },
   "file_extension": ".py",
   "mimetype": "text/x-python",
   "name": "python",
   "nbconvert_exporter": "python",
   "pygments_lexer": "ipython3",
   "version": "3.6.5"
  }
 },
 "nbformat": 4,
 "nbformat_minor": 2
}
