{
 "cells": [
  {
   "cell_type": "markdown",
   "metadata": {},
   "source": [
    "# Exposing class inheritance and attribute characteristics with namedtuple()"
   ]
  },
  {
   "cell_type": "markdown",
   "metadata": {},
   "source": [
    "So, this is an attempt to reveal to you some of the subtle differences between regular classes in Python and special classes.\n",
    "\n",
    "The enquiry into these differences started with the difference between mutable and immutable types in Python, an early learning subject most beginners are familiar with.\n",
    "\n",
    "We know everything in Python is an object.\n",
    "\n",
    "But not every object is alike.\n",
    "\n",
    "True fact: namedtuple() is a function of the collections library, so it can be called a method.\n",
    "\n",
    "So, another reason to look at this cropped up in a learning splash into Descriptors. There, to save on having to repeat _get, _set, and _del methods to handle update requests on instances objects, and to provide specialized functionality such as data validation before an operation with such a handler commits, Descriptors step in to shave back the need for unweildy repetition.\n",
    "\n",
    "The attempt here is to extend namedtuple class. One goal is to find out if it's possible to implement property validation on the class.\n",
    "\n",
    "We'll look at some crafty ABC.meta metaclass code which shows off a little bit about Descriptors extending by offset the native _get, _set, _del, and _new methods of a class. These can be exposed to the baseclass as its metaclass properties, but whether namedtuple will allow chenanigans of type or two is not yet known.\n",
    "\n",
    "Let's gear up and dive in."
   ]
  },
  {
   "cell_type": "code",
   "execution_count": 1,
   "metadata": {},
   "outputs": [],
   "source": [
    "from collections import namedtuple as nt\n",
    "\n",
    "attribs = ['name', 'rank', 'suit', 'increment_val','init_val', 'current_val', 'modifier_val']\n",
    "vals = (None, 'jack', 'clubs', 1, 0, 0, 1) # will come from a generated dict, for now a single demonstration class"
   ]
  },
  {
   "cell_type": "markdown",
   "metadata": {},
   "source": [
    "First, some incorrect syntax, to show we can't explicitly reference inheritable classes, or the properties of the namedtuple baseclass using the namedtuple() function."
   ]
  },
  {
   "cell_type": "code",
   "execution_count": 2,
   "metadata": {},
   "outputs": [
    {
     "ename": "SyntaxError",
     "evalue": "can't assign to function call (<ipython-input-2-3a35d498899d>, line 1)",
     "output_type": "error",
     "traceback": [
      "\u001b[0;36m  File \u001b[0;32m\"<ipython-input-2-3a35d498899d>\"\u001b[0;36m, line \u001b[0;32m1\u001b[0m\n\u001b[0;31m    Card(object) = nt('Card', attribs)\u001b[0m\n\u001b[0m                                      ^\u001b[0m\n\u001b[0;31mSyntaxError\u001b[0m\u001b[0;31m:\u001b[0m can't assign to function call\n"
     ]
    }
   ],
   "source": [
    "Card(object) = nt('Card', attribs)"
   ]
  },
  {
   "cell_type": "markdown",
   "metadata": {},
   "source": [
    "Similarly, the reference to an inheritable class can't be made where the name of the new class is established here."
   ]
  },
  {
   "cell_type": "code",
   "execution_count": 3,
   "metadata": {},
   "outputs": [
    {
     "ename": "ValueError",
     "evalue": "Type names and field names must be valid identifiers: 'Card(object)'",
     "output_type": "error",
     "traceback": [
      "\u001b[0;31m---------------------------------------------------------------------------\u001b[0m",
      "\u001b[0;31mValueError\u001b[0m                                Traceback (most recent call last)",
      "\u001b[0;32m<ipython-input-3-927ec875d02d>\u001b[0m in \u001b[0;36m<module>\u001b[0;34m()\u001b[0m\n\u001b[0;32m----> 1\u001b[0;31m \u001b[0mCard\u001b[0m \u001b[0;34m=\u001b[0m \u001b[0mnt\u001b[0m\u001b[0;34m(\u001b[0m\u001b[0;34m'Card(object)'\u001b[0m\u001b[0;34m,\u001b[0m \u001b[0mattribs\u001b[0m\u001b[0;34m)\u001b[0m\u001b[0;34m\u001b[0m\u001b[0m\n\u001b[0m",
      "\u001b[0;32m/usr/lib/python3.6/collections/__init__.py\u001b[0m in \u001b[0;36mnamedtuple\u001b[0;34m(typename, field_names, verbose, rename, module)\u001b[0m\n\u001b[1;32m    399\u001b[0m         \u001b[0;32mif\u001b[0m \u001b[0;32mnot\u001b[0m \u001b[0mname\u001b[0m\u001b[0;34m.\u001b[0m\u001b[0misidentifier\u001b[0m\u001b[0;34m(\u001b[0m\u001b[0;34m)\u001b[0m\u001b[0;34m:\u001b[0m\u001b[0;34m\u001b[0m\u001b[0m\n\u001b[1;32m    400\u001b[0m             raise ValueError('Type names and field names must be valid '\n\u001b[0;32m--> 401\u001b[0;31m                              'identifiers: %r' % name)\n\u001b[0m\u001b[1;32m    402\u001b[0m         \u001b[0;32mif\u001b[0m \u001b[0m_iskeyword\u001b[0m\u001b[0;34m(\u001b[0m\u001b[0mname\u001b[0m\u001b[0;34m)\u001b[0m\u001b[0;34m:\u001b[0m\u001b[0;34m\u001b[0m\u001b[0m\n\u001b[1;32m    403\u001b[0m             raise ValueError('Type names and field names cannot be a '\n",
      "\u001b[0;31mValueError\u001b[0m: Type names and field names must be valid identifiers: 'Card(object)'"
     ]
    }
   ],
   "source": [
    "Card = nt('Card(object)', attribs)"
   ]
  },
  {
   "cell_type": "markdown",
   "metadata": {},
   "source": [
    "The valid syntax below works fine, and we go on beneath to instance a card from class Card."
   ]
  },
  {
   "cell_type": "code",
   "execution_count": 5,
   "metadata": {},
   "outputs": [],
   "source": [
    "Card = nt('Card', attribs)"
   ]
  },
  {
   "cell_type": "code",
   "execution_count": 6,
   "metadata": {},
   "outputs": [],
   "source": [
    "card = Card(*vals)"
   ]
  },
  {
   "cell_type": "markdown",
   "metadata": {},
   "source": [
    "Inspect the class to determine what values can be set on the base class prior to instance construction(s).\n"
   ]
  },
  {
   "cell_type": "code",
   "execution_count": 7,
   "metadata": {},
   "outputs": [
    {
     "data": {
      "text/plain": [
       "['__add__',\n",
       " '__class__',\n",
       " '__contains__',\n",
       " '__delattr__',\n",
       " '__delitem__',\n",
       " '__dir__',\n",
       " '__doc__',\n",
       " '__eq__',\n",
       " '__format__',\n",
       " '__ge__',\n",
       " '__getattribute__',\n",
       " '__getitem__',\n",
       " '__gt__',\n",
       " '__hash__',\n",
       " '__iadd__',\n",
       " '__imul__',\n",
       " '__init__',\n",
       " '__init_subclass__',\n",
       " '__iter__',\n",
       " '__le__',\n",
       " '__len__',\n",
       " '__lt__',\n",
       " '__mul__',\n",
       " '__ne__',\n",
       " '__new__',\n",
       " '__reduce__',\n",
       " '__reduce_ex__',\n",
       " '__repr__',\n",
       " '__reversed__',\n",
       " '__rmul__',\n",
       " '__setattr__',\n",
       " '__setitem__',\n",
       " '__sizeof__',\n",
       " '__str__',\n",
       " '__subclasshook__',\n",
       " 'append',\n",
       " 'clear',\n",
       " 'copy',\n",
       " 'count',\n",
       " 'extend',\n",
       " 'index',\n",
       " 'insert',\n",
       " 'pop',\n",
       " 'remove',\n",
       " 'reverse',\n",
       " 'sort']"
      ]
     },
     "execution_count": 7,
     "metadata": {},
     "output_type": "execute_result"
    }
   ],
   "source": [
    "dir(dir(Card))"
   ]
  },
  {
   "cell_type": "code",
   "execution_count": 8,
   "metadata": {},
   "outputs": [
    {
     "data": {
      "text/plain": [
       "['__bool__',\n",
       " '__class__',\n",
       " '__delattr__',\n",
       " '__dir__',\n",
       " '__doc__',\n",
       " '__eq__',\n",
       " '__format__',\n",
       " '__ge__',\n",
       " '__getattribute__',\n",
       " '__gt__',\n",
       " '__hash__',\n",
       " '__init__',\n",
       " '__init_subclass__',\n",
       " '__le__',\n",
       " '__lt__',\n",
       " '__ne__',\n",
       " '__new__',\n",
       " '__reduce__',\n",
       " '__reduce_ex__',\n",
       " '__repr__',\n",
       " '__setattr__',\n",
       " '__sizeof__',\n",
       " '__str__',\n",
       " '__subclasshook__']"
      ]
     },
     "execution_count": 8,
     "metadata": {},
     "output_type": "execute_result"
    }
   ],
   "source": [
    "dir(Card.__init_subclass__())"
   ]
  },
  {
   "cell_type": "markdown",
   "metadata": {},
   "source": [
    "Now, we'll turn to some deep dive takes on Descriptors, in particular a pattern which makes use of metaclass properties of a class to implement a callback.\n",
    "[Descriptor Writeup - Chris Beaumont](http://nbviewer.jupyter.org/gist/ChrisBeaumont/5758381/descriptor_writeup.ipynb)"
   ]
  },
  {
   "cell_type": "code",
   "execution_count": 9,
   "metadata": {},
   "outputs": [
    {
     "name": "stdout",
     "output_type": "stream",
     "text": [
      "Found class DecriptorOwner\n"
     ]
    }
   ],
   "source": [
    "class Descriptor(object):\n",
    "    def __init__(self):\n",
    "        #notice we aren't setting the label here\n",
    "        self.label = None\n",
    "        \n",
    "    def __get__(self, instance, owner):\n",
    "        print('__get__. Label = %s' % self.label)\n",
    "        return instance.__dict__.get(self.label, None)\n",
    "    \n",
    "    def __set__(self, instance, value):\n",
    "        print('__set__')\n",
    "        instance.__dict__[self.label] = value\n",
    "\n",
    "        \n",
    "class DescriptorOwner(type):\n",
    "    print('Found class DecriptorOwner')\n",
    "    def __new__(cls, name, bases, attrs):\n",
    "        # find all descriptors, auto-set their labels\n",
    "        for n, v in attrs.items():\n",
    "            if isinstance(v, Descriptor):\n",
    "                v.label = n\n",
    "        return super(DescriptorOwner, cls).__new__(cls, name, bases, attrs)\n",
    "    \n",
    "class Constructor():\n",
    "    ''' '''\n",
    "    def __init__(self):\n",
    "        print(self, 'There will be no initialization to speak of.')\n",
    "     \n",
    "class Foo(object):\n",
    "    __metaclass__ = DescriptorOwner"
   ]
  },
  {
   "cell_type": "markdown",
   "metadata": {},
   "source": [
    "Before we go on to refactor the code to fit, we need to find out if the dunder metaclass property of class Foo shown here is also a property of namedtuple class Card. We've seen so far by inspection using dir() that the property doesn't appear to exist on the class, and that may mean our attempt here is going to hit a brick wall.\n",
    "\n",
    "Let's reuse the lists from above to populate the class attributes and instance values, but change the name of the class we want to create, to avoid confusion with the above.\n",
    "\n",
    "The next line of code is taken from the example above in which class Foo: is shown to have a class variable which sets the __metaclass__ attribute to the class DescriptorOwner, an object somewhat more than a handler which, well, handles new class construction requests, checking to see if the name of the property exists in its dictionary of labeled attributes. It does this to get around limitations of the Descriptor framework which prevent list class property references from being properly saved so Descriptor handlers can be engaged, treating all instance variables,  regardless of their affinity with Descriptors, the same -- by labeling them as the name of the variable to which a given call refers, making the map (dictionary) of references available to route requests as appropriate. \n",
    "\n",
    "The methods exposed in the metaclass handle calls made to standard class methods, methods intrinsic to all normal classes. "
   ]
  },
  {
   "cell_type": "code",
   "execution_count": 10,
   "metadata": {
    "scrolled": true
   },
   "outputs": [
    {
     "data": {
      "text/plain": [
       "['__add__',\n",
       " '__class__',\n",
       " '__contains__',\n",
       " '__delattr__',\n",
       " '__dir__',\n",
       " '__doc__',\n",
       " '__eq__',\n",
       " '__format__',\n",
       " '__ge__',\n",
       " '__getattribute__',\n",
       " '__getitem__',\n",
       " '__getnewargs__',\n",
       " '__gt__',\n",
       " '__hash__',\n",
       " '__init__',\n",
       " '__init_subclass__',\n",
       " '__iter__',\n",
       " '__le__',\n",
       " '__len__',\n",
       " '__lt__',\n",
       " '__metaclass__',\n",
       " '__module__',\n",
       " '__mul__',\n",
       " '__ne__',\n",
       " '__new__',\n",
       " '__reduce__',\n",
       " '__reduce_ex__',\n",
       " '__repr__',\n",
       " '__rmul__',\n",
       " '__setattr__',\n",
       " '__sizeof__',\n",
       " '__slots__',\n",
       " '__str__',\n",
       " '__subclasshook__',\n",
       " '_asdict',\n",
       " '_fields',\n",
       " '_make',\n",
       " '_replace',\n",
       " '_source',\n",
       " 'count',\n",
       " 'current_val',\n",
       " 'increment_val',\n",
       " 'index',\n",
       " 'init_val',\n",
       " 'modifier_val',\n",
       " 'name',\n",
       " 'rank',\n",
       " 'suit']"
      ]
     },
     "execution_count": 10,
     "metadata": {},
     "output_type": "execute_result"
    }
   ],
   "source": [
    "Banner = nt('Banner', attribs)\n",
    "Banner.__metaclass__ = DescriptorOwner\n",
    "# TODO []\n",
    "# Banner.__init_subclass__ =  Constructor  # DescriptorOwner._init_here()\n",
    "# Banner.__init_subclass__ =\n",
    "dir(Banner)"
   ]
  },
  {
   "cell_type": "markdown",
   "metadata": {},
   "source": [
    "Well, that seems to work after all.\n",
    "Now let's make an instance, and check out a few relevant things about it."
   ]
  },
  {
   "cell_type": "code",
   "execution_count": 11,
   "metadata": {},
   "outputs": [
    {
     "name": "stdout",
     "output_type": "stream",
     "text": [
      "jack\n"
     ]
    }
   ],
   "source": [
    "b = Banner(*vals)\n",
    "print(b.rank)"
   ]
  },
  {
   "cell_type": "code",
   "execution_count": 12,
   "metadata": {},
   "outputs": [
    {
     "ename": "AttributeError",
     "evalue": "can't set attribute",
     "output_type": "error",
     "traceback": [
      "\u001b[0;31m---------------------------------------------------------------------------\u001b[0m",
      "\u001b[0;31mAttributeError\u001b[0m                            Traceback (most recent call last)",
      "\u001b[0;32m<ipython-input-12-eeb9896b7413>\u001b[0m in \u001b[0;36m<module>\u001b[0;34m()\u001b[0m\n\u001b[0;32m----> 1\u001b[0;31m \u001b[0mb\u001b[0m\u001b[0;34m.\u001b[0m\u001b[0mrank\u001b[0m \u001b[0;34m=\u001b[0m \u001b[0;34m'queen'\u001b[0m\u001b[0;34m\u001b[0m\u001b[0m\n\u001b[0m\u001b[1;32m      2\u001b[0m \u001b[0mprint\u001b[0m\u001b[0;34m(\u001b[0m\u001b[0mb\u001b[0m\u001b[0;34m.\u001b[0m\u001b[0mrank\u001b[0m\u001b[0;34m)\u001b[0m\u001b[0;34m\u001b[0m\u001b[0m\n",
      "\u001b[0;31mAttributeError\u001b[0m: can't set attribute"
     ]
    }
   ],
   "source": [
    "b.rank = 'queen'\n",
    "print(b.rank)"
   ]
  },
  {
   "cell_type": "markdown",
   "metadata": {},
   "source": [
    "As it turns out, we have hit a final snag on the quest to validate new values assigned to named tuple instanced objects. If you don't see an AttributeError above after running all code above, then it's a miracle.\n",
    "\n",
    "By its nature, a tuple is immutable, meaning that its values can't be changed on the instance, or in the baseclass once they have been created. The only workaround is not really a workaround at all, that is, to create a new instance whose values are a replica of another instance, changing those we want prior.\n",
    "It may seem a little strange, but printing the values along the way should help disambiguate which values stick around and on whom.\n",
    "\n",
    "##### namedtuple _replace() method\n",
    "\n",
    "The semi-private _replace() method doesn't quite work the way we might expect from its name, though it does facilitate a blueprint from a populated instance.\n",
    "\n",
    "First, the part that doesn't work."
   ]
  },
  {
   "cell_type": "code",
   "execution_count": 13,
   "metadata": {},
   "outputs": [
    {
     "name": "stdout",
     "output_type": "stream",
     "text": [
      "Banner(name=None, rank='jack', suit='clubs', increment_val=1, init_val=0, current_val=0, modifier_val=1)\n"
     ]
    }
   ],
   "source": [
    "# b.rank = 'queen'\n",
    "b._replace(rank='queen')\n",
    "print(b)"
   ]
  },
  {
   "cell_type": "markdown",
   "metadata": {},
   "source": [
    "Alright, earlier we saw setting the value on an existing instance doesn't work, and the above confirms this.\n",
    "Now for the bit that brings inheritance into question while making short work of a new instance."
   ]
  },
  {
   "cell_type": "code",
   "execution_count": 14,
   "metadata": {},
   "outputs": [
    {
     "name": "stdout",
     "output_type": "stream",
     "text": [
      "Banner(name=None, rank='king', suit='hearts', increment_val=1, init_val=0, current_val=0, modifier_val=1)\n"
     ]
    }
   ],
   "source": [
    "e = b._replace(rank='king', suit='hearts')\n",
    "print(e)"
   ]
  },
  {
   "cell_type": "markdown",
   "metadata": {},
   "source": [
    "The burning question: Does the newly instanced object become a subclass to its sibling?"
   ]
  },
  {
   "cell_type": "code",
   "execution_count": 15,
   "metadata": {},
   "outputs": [
    {
     "name": "stdout",
     "output_type": "stream",
     "text": [
      "<class '__main__.Banner'>\n",
      "<class '__main__.Banner'>\n",
      "<class 'type'>\n",
      "False\n",
      "False\n",
      "True\n",
      "True\n"
     ]
    }
   ],
   "source": [
    "# print(isinstance(Banner, (e, b))\n",
    "print(type(b))\n",
    "print(type(e))\n",
    "print(type(Banner))\n",
    "print(isinstance(Banner, type(b)))\n",
    "print(isinstance(Banner, type(e)))\n",
    "print(isinstance(b, type(e)))\n",
    "print(isinstance(e, type(b)))"
   ]
  },
  {
   "cell_type": "code",
   "execution_count": 16,
   "metadata": {},
   "outputs": [
    {
     "ename": "TypeError",
     "evalue": "_replace() missing 1 required positional argument: '_self'",
     "output_type": "error",
     "traceback": [
      "\u001b[0;31m---------------------------------------------------------------------------\u001b[0m",
      "\u001b[0;31mTypeError\u001b[0m                                 Traceback (most recent call last)",
      "\u001b[0;32m<ipython-input-16-f2c316beada5>\u001b[0m in \u001b[0;36m<module>\u001b[0;34m()\u001b[0m\n\u001b[0;32m----> 1\u001b[0;31m \u001b[0mf\u001b[0m \u001b[0;34m=\u001b[0m \u001b[0mBanner\u001b[0m\u001b[0;34m.\u001b[0m\u001b[0m_replace\u001b[0m\u001b[0;34m(\u001b[0m\u001b[0mrank\u001b[0m\u001b[0;34m=\u001b[0m\u001b[0;34m'king'\u001b[0m\u001b[0;34m,\u001b[0m \u001b[0msuit\u001b[0m\u001b[0;34m=\u001b[0m\u001b[0;34m'hearts'\u001b[0m\u001b[0;34m)\u001b[0m\u001b[0;34m\u001b[0m\u001b[0m\n\u001b[0m\u001b[1;32m      2\u001b[0m \u001b[0mprint\u001b[0m\u001b[0;34m(\u001b[0m\u001b[0mf\u001b[0m\u001b[0;34m)\u001b[0m\u001b[0;34m\u001b[0m\u001b[0m\n",
      "\u001b[0;31mTypeError\u001b[0m: _replace() missing 1 required positional argument: '_self'"
     ]
    }
   ],
   "source": [
    "f = Banner._replace(rank='king', suit='hearts')\n",
    "print(f)"
   ]
  },
  {
   "cell_type": "markdown",
   "metadata": {},
   "source": [
    "Clearly, the baseclass won't accept replacement values, and by the rules of inheritance as implemented in most language, Python included, instanced classes don't create new objects of their parent's type -- unless, for some reason, they're designed to do so.\n",
    "\n",
    "If you'd like to see the actual code for namedtuple class there are several ways to do so.\n",
    "For the simplest, run the following in your terminal:\n",
    "\n",
    "`pydoc3.6 -p 4200`\n",
    "\n",
    "Then navigate to:\n",
    "\n",
    "`http://localhost:4200/getfile?key=/usr/lib/python3.6/collections/__init__.py`\n",
    "\n",
    "And use Ctrl-F to find: \n",
    "\n",
    "`class {typename}(tuple):`"
   ]
  },
  {
   "cell_type": "markdown",
   "metadata": {},
   "source": [
    "### Descriptor wrap up"
   ]
  },
  {
   "cell_type": "markdown",
   "metadata": {},
   "source": [
    "Any remaining work on descriptors will have to use a simple class whose derivation is not limited by the named tuple base class.\n",
    "\n",
    "In some sense, leaving Descriptors here is a bit of a let down.\n",
    "\n",
    "However, one might call what remains from this enquiry a major advantage.\n",
    "\n",
    "How so, you ask? Well, we get security.\n",
    "\n",
    "Using the namedtuple method, new values may only be instanced, so each object off the baseclass is essentially read only after being instanced. That simple property of tuples extends securely to objects.\n",
    "\n",
    "We have seen, however, that not all is read only. It is possible to add attributes to the baseclass following its creation that do end up on all instanced classes without regard to when those attributes are added, as it should be for class variables, always available instantly, to object instances with access to baseclass variables and methods."
   ]
  },
  {
   "cell_type": "code",
   "execution_count": 17,
   "metadata": {},
   "outputs": [
    {
     "name": "stdout",
     "output_type": "stream",
     "text": [
      "<class '__main__.DescriptorOwner'>\n"
     ]
    }
   ],
   "source": [
    "print(Banner.__metaclass__)"
   ]
  },
  {
   "cell_type": "code",
   "execution_count": 18,
   "metadata": {},
   "outputs": [
    {
     "name": "stdout",
     "output_type": "stream",
     "text": [
      "<class '__main__.DescriptorOwner'>\n"
     ]
    }
   ],
   "source": [
    "print(e.__metaclass__)"
   ]
  },
  {
   "cell_type": "markdown",
   "metadata": {},
   "source": [
    "As it turns out, we can set properties on the base class that can be inherited. Logic seems to dictate that for such properties to be available to concrete classes they must be set before an instance is created.\n",
    "\n",
    "Following this logic, let's see if we can also set a new property of one of our instanced classes that none of the other instance of the same parent class have."
   ]
  },
  {
   "cell_type": "code",
   "execution_count": 19,
   "metadata": {},
   "outputs": [
    {
     "ename": "AttributeError",
     "evalue": "'Banner' object has no attribute '_flamewar'",
     "output_type": "error",
     "traceback": [
      "\u001b[0;31m---------------------------------------------------------------------------\u001b[0m",
      "\u001b[0;31mAttributeError\u001b[0m                            Traceback (most recent call last)",
      "\u001b[0;32m<ipython-input-19-0d7834e4098f>\u001b[0m in \u001b[0;36m<module>\u001b[0;34m()\u001b[0m\n\u001b[0;32m----> 1\u001b[0;31m \u001b[0me\u001b[0m\u001b[0;34m.\u001b[0m\u001b[0m_flamewar\u001b[0m \u001b[0;34m=\u001b[0m \u001b[0;34m'hellfire'\u001b[0m\u001b[0;34m\u001b[0m\u001b[0m\n\u001b[0m\u001b[1;32m      2\u001b[0m \u001b[0mprint\u001b[0m\u001b[0;34m(\u001b[0m\u001b[0me\u001b[0m\u001b[0;34m.\u001b[0m\u001b[0mflameware\u001b[0m\u001b[0;34m)\u001b[0m\u001b[0;34m\u001b[0m\u001b[0m\n",
      "\u001b[0;31mAttributeError\u001b[0m: 'Banner' object has no attribute '_flamewar'"
     ]
    }
   ],
   "source": [
    "e._flamewar = 'hellfire'\n",
    "print(e.flameware)"
   ]
  },
  {
   "cell_type": "markdown",
   "metadata": {},
   "source": [
    "So, the answer is a resounding 'No'."
   ]
  },
  {
   "cell_type": "markdown",
   "metadata": {},
   "source": [
    "Let's set the property on the parent class.\n",
    "Remember, it was supposed properties set on the baseclass would only be available to instances if the property was there when they were instanced. \n",
    "The rest shows how that take on baseclass and instance behavior and access is wrong.\n",
    "As long as the property on the parent is set and exposed when called for by an instance, it's there on the instance prefixed reference to the attribute. "
   ]
  },
  {
   "cell_type": "code",
   "execution_count": 20,
   "metadata": {},
   "outputs": [
    {
     "name": "stdout",
     "output_type": "stream",
     "text": [
      "fire_hydrant\n"
     ]
    }
   ],
   "source": [
    "Banner.flamewar = 'fire_hydrant'\n",
    "print(Banner.flamewar)"
   ]
  },
  {
   "cell_type": "code",
   "execution_count": 21,
   "metadata": {},
   "outputs": [
    {
     "name": "stdout",
     "output_type": "stream",
     "text": [
      "fire_hydrant\n"
     ]
    }
   ],
   "source": [
    "print(e.flamewar)"
   ]
  },
  {
   "cell_type": "code",
   "execution_count": 22,
   "metadata": {},
   "outputs": [
    {
     "name": "stdout",
     "output_type": "stream",
     "text": [
      "fire_hydrant\n"
     ]
    }
   ],
   "source": [
    "print(b.flamewar)"
   ]
  },
  {
   "cell_type": "markdown",
   "metadata": {},
   "source": [
    "Alright, now we know.\n",
    "\n",
    "To be sure you know because you've seen the right output, please review the errors in the code above. They're there to reveal pitfalls. The interpreter will stop, letting you read and click to run the code below in sequence.\n",
    "\n",
    "You should see both e.flamewar and b.flamewar attributes linked to the baseclass, showing the value 'fire_hydrant'.\n",
    "\n",
    "Restart to refresh your kernel if necessary."
   ]
  },
  {
   "cell_type": "markdown",
   "metadata": {},
   "source": [
    "# Generate a deck of cards"
   ]
  },
  {
   "cell_type": "markdown",
   "metadata": {},
   "source": [
    "For clarity, let's import namedtuple from collection again. And we'll set up a class like earlier, instancing one to get at replicable default values."
   ]
  },
  {
   "cell_type": "code",
   "execution_count": null,
   "metadata": {},
   "outputs": [],
   "source": [
    "from collections import namedtuple as nt\n",
    "\n",
    "ranks = {'2': 1, '3': 2, '4': 3, '5': 4, '6': 5, '7': 6, '8': 7, '9': 8, '10': 9, 'jack': 10, 'queen': 11, 'king': 12, 'ace': 13}\n",
    "suits = ['spades', 'hearts', 'clubs', 'diamonds']\n",
    "attribs = ['name', 'rank', 'suit', 'val_init', 'val_current', 'isboss', 'isshown', 'isheld', 'holder']\n",
    "protovals = None, None, None, None, None, False, False, False, None\n",
    "cardlist = []\n",
    "Chance = nt('Chance', attribs)\n",
    "proto = Chance(*protovals)\n",
    "print(proto)\n",
    "\n",
    "for s in suits:\n",
    "    for r, v in ranks.items():\n",
    "        cardlist.append(proto._replace(name=f'{r} of {s}', rank=r, suit=s, val_init=v))\n",
    "\n",
    "for _ in cardlist:\n",
    "    print(_)"
   ]
  },
  {
   "cell_type": "markdown",
   "metadata": {},
   "source": [
    "### Run and choose, run and choose, run and choose\n",
    "Reading this in Jupyter Notebook you and me both can benefit from the cellular interconnectedness and isolation. No while statement needs to be present to let you click to fire off one card choice after another, so none has to be written."
   ]
  },
  {
   "cell_type": "code",
   "execution_count": null,
   "metadata": {},
   "outputs": [],
   "source": [
    " \n",
    "from random import choice\n",
    "\n",
    "print(choice(cardlist))\n",
    "         "
   ]
  },
  {
   "cell_type": "raw",
   "metadata": {},
   "source": []
  },
  {
   "cell_type": "markdown",
   "metadata": {},
   "source": [
    "# Next on my agenda\n",
    "\n",
    "Some of the next items on my agenda are ones with learning curves which still give me a lot of grief, so while  learn more about themand up for grabs.\n",
    "\n",
    "1. This series speaks to the ABC.meta methods:\n",
    "\n",
    "    __subclasscheck__\n",
    "    __subclasshook__\n",
    "    issubclass()\n",
    "    \n",
    "One of the best resources I've found so far, besides the PEP, is [stackoverflow: python-subclasscheck-subclasshook](https://stackoverflow.com/questions/40764347/python-subclasscheck-subclasshook).\n",
    "\n",
    "2. Several other properties of classes of great interest as seen above under the microscope with dir().\n",
    "\n",
    "    __class__\n",
    "    __init__\n",
    "    __init__subclass__\n",
    "\n",
    "1. And finally, looking at `import inspect`, `super()`, and finding and learning about other contributors in the language to an understanding of the MRO (Method Resolution Order) and metaclass patterns.\n",
    "\n",
    "Fun times ahead!\n",
    "\n",
    "I'm in the process of learning Python, and this file is reflective of that, it being a work in progress as well.\n",
    "\n",
    "So, I do appreciate my use of language on aspects of the Python subject may not be perfect, or as easy to follow as it might be coming from someone who has crunched complex concepts into simple and erudite morsels, which we all know make it easiest to learn and retain important points.\n",
    "\n",
    "Please, let me know if you have any questions, comments or... revisions.\n",
    "\n",
    "Reach me, Tim, rebelclause@gmail.com.\n",
    "\n",
    "July 27, 2018"
   ]
  },
  {
   "cell_type": "code",
   "execution_count": null,
   "metadata": {},
   "outputs": [],
   "source": []
  }
 ],
 "metadata": {
  "kernelspec": {
   "display_name": "Python 3",
   "language": "python",
   "name": "python3"
  },
  "language_info": {
   "codemirror_mode": {
    "name": "ipython",
    "version": 3
   },
   "file_extension": ".py",
   "mimetype": "text/x-python",
   "name": "python",
   "nbconvert_exporter": "python",
   "pygments_lexer": "ipython3",
   "version": "3.6.5"
  }
 },
 "nbformat": 4,
 "nbformat_minor": 2
}
